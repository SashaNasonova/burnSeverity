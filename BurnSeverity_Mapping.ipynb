{
  "cells": [
    {
      "cell_type": "markdown",
      "metadata": {
        "id": "view-in-github",
        "colab_type": "text"
      },
      "source": [
        "<a href=\"https://colab.research.google.com/github/SashaNasonova/burnSeverity/blob/main/BurnSeverity_Mapping.ipynb\" target=\"_parent\"><img src=\"https://colab.research.google.com/assets/colab-badge.svg\" alt=\"Open In Colab\"/></a>"
      ]
    },
    {
      "cell_type": "markdown",
      "metadata": {
        "id": "0djxgBzOnOM8"
      },
      "source": [
        "# Burn Severity Mapping Notebook\n",
        "This notebook is intended to be used for small scale, manual burn severity mapping of individual fires. For large scale semi-automated mapping please refer to the main python scripts (https://github.com/SashaNasonova/burnSeverity).\n",
        "\n",
        "This methodology is based on the Burned Area Reflectance Classification (BARC) product developed by the USGS that aims to estimate burn severity through a spectral comparison of pre- and post-fire medium resolution (20 - 30m) satellite imagery.\n",
        "\n",
        "Healthy vegetation reflects strongly in the near-infrared (NIR) portion of the electromagnetic spectrum whereas rock and bare soil reflects strongly in the mid to shortwave infrared (SWIR) portion. In other words, healthy vegetation reflects strongly in NIR and reflects weakly in SWIR **(↑NIR,↓SWIR)**, whereas soil, bare rock and burned woody vegetation reflect strongly in SWIR and weakly in NIR **(↑SWIR,↓NIR)**. This inverse relationship can be leveraged to provide an estimate of burn severity where both pre- and post-fire imagery is available.\n",
        "\n",
        "The Normalized Burn Ratio (NBR) is a spectral index that captures the relationship between NIR and SWIR bands. The difference between pre- and post-fire NBR (dNBR) can then be used to quantify wildfire burn severity (**↑dNBR ∝ ↑Severity**) using the following equations.\n",
        "\n",
        "(1) NBR = (NIR - SWIR) / (NIR + SWIR) \\\\\n",
        "(2) dNBR = NBRpre - NBRpost\n",
        "\n",
        "Once dNBR has been calculated, it can be transformed into a burn severity classification product using a variety of methods ranging from simple thresholding to more complex supervised classifications informed by ground observations. This process is based on the USGS BARC256 methodology which scales the data to an 8-bit representation and utilizes static thresholds (76,110,187) to create a burn severity classification from the dNBR raster.\n"
      ]
    },
    {
      "cell_type": "code",
      "source": [
        "# Clone github repository to be able to access vector data\n",
        "!git clone https://github.com/SashaNasonova/burnSeverity.git"
      ],
      "metadata": {
        "id": "sxuYFlcIfDwh"
      },
      "execution_count": null,
      "outputs": []
    },
    {
      "cell_type": "code",
      "execution_count": null,
      "metadata": {
        "id": "fH_EYpac23-Y"
      },
      "outputs": [],
      "source": [
        "#Install geemap through pip\n",
        "%pip install -U geemap\n",
        "%pip install pycrs"
      ]
    },
    {
      "cell_type": "code",
      "execution_count": null,
      "metadata": {
        "id": "m2ozW7v_6WHj"
      },
      "outputs": [],
      "source": [
        "#Import dependencies\n",
        "import geemap\n",
        "import ee\n",
        "import os\n",
        "import geopandas\n",
        "from osgeo import gdal\n",
        "from google.colab import files"
      ]
    },
    {
      "cell_type": "code",
      "execution_count": null,
      "metadata": {
        "id": "KlgKaTt1GJXt"
      },
      "outputs": [],
      "source": [
        "#Authenticate gee\n",
        "ee.Authenticate()"
      ]
    },
    {
      "cell_type": "code",
      "execution_count": null,
      "metadata": {
        "id": "ni-CYcoVGNYF"
      },
      "outputs": [],
      "source": [
        "#Intialize with a google cloud project\n",
        "project = 'helical-apricot-328020'\n",
        "ee.Initialize(project=project)"
      ]
    },
    {
      "cell_type": "code",
      "execution_count": null,
      "metadata": {
        "id": "vhhl6ZZSLfQ4"
      },
      "outputs": [],
      "source": [
        "## Define functions\n",
        "# Helper function to get files, non-recursive\n",
        "def getfiles(d,ext):\n",
        "  paths = []\n",
        "  for file in os.listdir(d):\n",
        "      if file.endswith(ext):\n",
        "          paths.append(os.path.join(d, file))\n",
        "  return(paths)\n",
        "\n",
        "# Helper function to get image acquisition date and format into (\"yyyy-mm-dd\")\n",
        "def getDate(im):\n",
        "  return(ee.Image(im).date().format(\"YYYY-MM-dd\"))\n",
        "\n",
        "def getSceneIds(im):\n",
        "  return(ee.Image(im).get('PRODUCT_ID'))\n",
        "\n",
        "def mosaicByDate(indate):\n",
        "  d = ee.Date(indate)\n",
        "  #print(d)\n",
        "  im = col.filterBounds(poly).filterDate(d, d.advance(1, \"day\")).mosaic()\n",
        "  #print(im)\n",
        "  return(im.set(\"system:time_start\", d.millis(), \"system:index\", d.format(\"YYYY-MM-dd\")))\n",
        "\n",
        "def runDateMosaic(col_list):\n",
        "  #get a list of unique dates within the list\n",
        "  date_list = col_list.map(getDate).getInfo()\n",
        "  udates = list(set(date_list))\n",
        "  udates.sort()\n",
        "  udates_ee = ee.List(udates)\n",
        "\n",
        "  #mosaic images by unique date\n",
        "  mosaic_imlist = udates_ee.map(mosaicByDate)\n",
        "  return(ee.ImageCollection(mosaic_imlist))\n",
        "\n",
        "def NBR_S2(image):\n",
        "  nbr = image.expression(\n",
        "      '(NIR - SWIR) / (NIR + SWIR)', {\n",
        "          'NIR': image.select('B8'),\n",
        "          'SWIR': image.select('B12')}).rename('nbr')\n",
        "  return(nbr)\n",
        "\n",
        "def NBR_Landsat(image,dattype):\n",
        "  if (dattype == 'L5')|(dattype == 'L7'):\n",
        "      nbr = image.expression(\n",
        "          '(NIR - SWIR) / (NIR + SWIR)', {\n",
        "              'NIR': image.select('SR_B4'),\n",
        "              'SWIR': image.select('SR_B7')}).rename('nbr')\n",
        "  elif (dattype == 'L8')|(dattype == 'L9'):\n",
        "      nbr = image.expression(\n",
        "          '(NIR - SWIR) / (NIR + SWIR)', {\n",
        "              'NIR': image.select('SR_B5'),\n",
        "              'SWIR': image.select('SR_B7')}).rename('nbr')\n",
        "  else:\n",
        "      print('Incorrect Landsat sensor specified')\n",
        "  return(nbr)\n",
        "\n",
        "def grid_footprint(footprint,nx,ny):\n",
        "  from shapely.geometry import Polygon, LineString, MultiPolygon\n",
        "  from shapely.ops import split\n",
        "\n",
        "  #polygon = footprint\n",
        "  polygon = Polygon(footprint['coordinates'][0])\n",
        "  #polygon = Polygon(footprint)\n",
        "\n",
        "  minx, miny, maxx, maxy = polygon.bounds\n",
        "  dx = (maxx - minx) / nx  # width of a small part\n",
        "  dy = (maxy - miny) / ny  # height of a small part\n",
        "\n",
        "  horizontal_splitters = [LineString([(minx, miny + i*dy), (maxx, miny + i*dy)]) for i in range(ny)]\n",
        "  vertical_splitters = [LineString([(minx + i*dx, miny), (minx + i*dx, maxy)]) for i in range(nx)]\n",
        "  splitters = horizontal_splitters + vertical_splitters\n",
        "\n",
        "  result = polygon\n",
        "  for splitter in splitters:\n",
        "      result = MultiPolygon(split(result, splitter))\n",
        "\n",
        "  coord_list = [list(part.exterior.coords) for part in result.geoms]\n",
        "\n",
        "  poly_list = []\n",
        "  for cc in coord_list:\n",
        "      p = ee.Geometry.Polygon(cc)\n",
        "      poly_list.append(p)\n",
        "  return(poly_list)\n",
        "\n",
        "def apply_scale_factors_ls(image):\n",
        "  opticalBands = image.select('SR_B.').multiply(0.0000275).add(-0.2)\n",
        "  thermalBands = image.select('ST_B.*').multiply(0.00341802).add(149.0)\n",
        "  return image.addBands(opticalBands, None, True).addBands(thermalBands, None, True)\n",
        "\n",
        "def apply_scale_factors_s2(image):\n",
        "  opticalBands = image.select('B.*').multiply(0.0001)\n",
        "  return image.addBands(opticalBands, None, True)\n"
      ]
    },
    {
      "cell_type": "code",
      "execution_count": null,
      "metadata": {
        "id": "At6EOWMfMIGL"
      },
      "outputs": [],
      "source": [
        "# Open fires shapefile\n",
        "fires_shp = 'burnSeverity/test/vectors/K52318_Aug28.shp'\n",
        "fires = geemap.shp_to_ee(fires_shp)\n",
        "\n",
        "# Visualize in table format\n",
        "fires_df = geopandas.read_file(fires_shp)\n",
        "fires_df"
      ]
    },
    {
      "cell_type": "code",
      "execution_count": null,
      "metadata": {
        "id": "mUwlkFb1M2yS"
      },
      "outputs": [],
      "source": [
        "# Visualize if needed\n",
        "Map = geemap.Map()\n",
        "Map.addLayer(fires,{},'Fire Polys')\n",
        "Map.centerObject(fires)\n",
        "Map"
      ]
    },
    {
      "cell_type": "code",
      "execution_count": null,
      "metadata": {
        "id": "K0NN6etOk8jx"
      },
      "outputs": [],
      "source": [
        "# Select data type\n",
        "dattype = 'S2'\n",
        "\n",
        "if dattype == 'S2':\n",
        "    col = ee.ImageCollection('COPERNICUS/S2_SR_HARMONIZED')\n",
        "    cld_field =  'CLOUDY_PIXEL_PERCENTAGE'\n",
        "    print('Selected S2 SR')\n",
        "elif dattype == 'L9':\n",
        "    col = ee.ImageCollection('LANDSAT/LC09/C02/T1_L2')\n",
        "    cld_field = 'CLOUD_COVER'\n",
        "    print('Selected L9 SR')\n",
        "elif dattype == 'L8':\n",
        "    col = ee.ImageCollection('LANDSAT/LC08/C02/T1_L2')\n",
        "    cld_field = 'CLOUD_COVER'\n",
        "    print('Selected L8 SR')\n",
        "else:\n",
        "    print('Wrong Data Type Selected')\n"
      ]
    },
    {
      "cell_type": "code",
      "source": [
        "# Define visualization parameters\n",
        "vis_type = 'nir'\n",
        "\n",
        "# Dictionary with band combinations\n",
        "vis_dict = {'L8':{'nir':['SR_B5', 'SR_B4', 'SR_B3'],\n",
        "                  'tc':['SR_B4','SR_B3','SR_B2'],\n",
        "                  'swir':['SR_B7','SR_B6','SR_B4']},\n",
        "            'L9':{'nir':['SR_B5', 'SR_B4', 'SR_B3'],\n",
        "                  'tc':['SR_B4','SR_B3','SR_B2'],\n",
        "                  'swir':['SR_B7','SR_B6','SR_B4']},\n",
        "            'S2':{'nir':['B8', 'B4', 'B3'],\n",
        "                  'tc':['B4','B3','B2'],\n",
        "                  'swir':['B12','B8','B4']}}\n",
        "\n",
        "bands = vis_dict[dattype][vis_type] #or provide a list of 3 bands\n",
        "\n",
        "vis = {\n",
        "  'min': 0,\n",
        "  'max': 0.4,\n",
        "  'bands': bands,\n",
        "};"
      ],
      "metadata": {
        "id": "F5AxJwrOO-8k"
      },
      "execution_count": null,
      "outputs": []
    },
    {
      "cell_type": "code",
      "execution_count": null,
      "metadata": {
        "id": "GP9ywAhpkCOC"
      },
      "outputs": [],
      "source": [
        "# Now select one fire (in the test data, there's only one fire perimeter)\n",
        "firenumber = 'K52318'\n",
        "fieldname = 'FIRE_NUMBE' #unique firenumber field, change if needed\n",
        "poly = fires.filterMetadata(fieldname,'equals',firenumber)"
      ]
    },
    {
      "cell_type": "markdown",
      "source": [
        "**Part 3: Pre-image selection parameters**"
      ],
      "metadata": {
        "id": "58PGY6NUOtI7"
      }
    },
    {
      "cell_type": "code",
      "execution_count": null,
      "metadata": {
        "id": "AA3mf-74kHtb"
      },
      "outputs": [],
      "source": [
        "# Find pre-fire imagery\n",
        "startdate = '2023-07-15'\n",
        "enddate = '2023-07-30'\n",
        "cld_thr = 100 #can lower the cloud cover threshold\n",
        "\n",
        "before = col.filterDate(startdate,enddate).filterBounds(poly).filter(ee.Filter.lt(cld_field,cld_thr))\n",
        "\n",
        "before_list = before.toList(before.size().getInfo())\n",
        "pre_mosaic_col = runDateMosaic(before_list)\n",
        "\n",
        "if dattype.startswith('L'):\n",
        "  pre_mosaic_col = pre_mosaic_col.map(apply_scale_factors_ls)\n",
        "else:\n",
        "  pre_mosaic_col = pre_mosaic_col.map(apply_scale_factors_s2)\n",
        "\n",
        "print('Found',pre_mosaic_col.size().getInfo(),'dates')"
      ]
    },
    {
      "cell_type": "markdown",
      "source": [
        "**Pre-image map display**"
      ],
      "metadata": {
        "id": "SPGX_tSfO9Uv"
      }
    },
    {
      "cell_type": "code",
      "execution_count": null,
      "metadata": {
        "id": "7tJAK85Qrmym"
      },
      "outputs": [],
      "source": [
        "# Add pre-fire images to pre-fire map\n",
        "before_map = geemap.Map()\n",
        "\n",
        "before_size = pre_mosaic_col.size().getInfo()\n",
        "before_mosaic_list = pre_mosaic_col.toList(before_size)\n",
        "before_size\n",
        "\n",
        "for i in range(0,before_size):\n",
        "  b = before_mosaic_list.get(i)\n",
        "  date = b.getInfo()['properties']['system:index']\n",
        "  before_map.addLayer(ee.Image(b), vis, date)\n",
        "  print(date)\n",
        "\n",
        "# Add fire polygon\n",
        "style = {'color': 'white', 'width': 2, 'lineType': 'solid', 'fillColor': '00000000'}\n",
        "before_map.addLayer(poly.style(**style),{},'poly')\n",
        "before_map.centerObject(poly)\n",
        "before_map"
      ]
    },
    {
      "cell_type": "markdown",
      "metadata": {
        "id": "Uw89bta2L0t-"
      },
      "source": [
        "At this point take note of the date of the pre-fire image you chose (yyyy-mm-dd). If there's no clear imagery available for the date you range you defined you can try a different date range or go back to select a different sensor (dattype). It is generally considered best practice to select pre- and post-fire imagery that was acquired at the time of year to reduce seasonal effects on the comparison, especially in areas with a high decidious component. ** add section details."
      ]
    },
    {
      "cell_type": "markdown",
      "source": [
        "**Part 4: Post-image parameter selection**"
      ],
      "metadata": {
        "id": "m4HCFMWpPC4F"
      }
    },
    {
      "cell_type": "code",
      "execution_count": null,
      "metadata": {
        "id": "aypsWNvCpQ6I"
      },
      "outputs": [],
      "source": [
        "# Find post-fire images\n",
        "startdate = '2023-09-15'\n",
        "enddate = '2023-09-30' #not inclusive of the end date\n",
        "cld_thr = 100\n",
        "\n",
        "after = col.filterDate(startdate,enddate).filterBounds(poly).filter(ee.Filter.lt(cld_field,cld_thr))\n",
        "\n",
        "after_list = after.toList(after.size().getInfo())\n",
        "post_mosaic_col = runDateMosaic(after_list)\n",
        "\n",
        "if dattype.startswith('L'):\n",
        "  post_mosaic_col = post_mosaic_col.map(apply_scale_factors_ls)\n",
        "else:\n",
        "  post_mosaic_col = post_mosaic_col.map(apply_scale_factors_s2)\n",
        "\n",
        "print('Found',post_mosaic_col.size().getInfo(),'scenes')"
      ]
    },
    {
      "cell_type": "code",
      "execution_count": null,
      "metadata": {
        "id": "jrEp5JtAUDMN"
      },
      "outputs": [],
      "source": [
        "# Add post-fire images to post-fire map\n",
        "after_map = geemap.Map()\n",
        "\n",
        "post_size = post_mosaic_col.size().getInfo()\n",
        "post_mosaic_list = post_mosaic_col.toList(post_size)\n",
        "before_size\n",
        "\n",
        "for i in range(0,post_size):\n",
        "  b = post_mosaic_list.get(i)\n",
        "  date = b.getInfo()['properties']['system:index']\n",
        "  after_map.addLayer(ee.Image(b), vis, date)\n",
        "  print(date)\n",
        "\n",
        "# Add fire polygon\n",
        "style = {'color': 'white', 'width': 2, 'lineType': 'solid', 'fillColor': '00000000'}\n",
        "after_map.addLayer(poly.style(**style),{},'poly')\n",
        "after_map.centerObject(poly)\n",
        "after_map\n"
      ]
    },
    {
      "cell_type": "markdown",
      "source": [
        "Also take note of the post-fire image selected. If no good post-fire image is available consider changing the date range or the sensor for both pre- and post-fire image."
      ],
      "metadata": {
        "id": "13-78_nUIcma"
      }
    },
    {
      "cell_type": "code",
      "source": [
        "# Calculate NBR, dNBR and generate BARC map.\n",
        "\n",
        "pre_mosaic_date = '2023-07-23' #enter pre-fire image date here\n",
        "post_mosaic_date = '2023-09-21' #enter post_fire image date here\n",
        "\n",
        "# Select pre-image and post-image\n",
        "pre_col = pre_mosaic_col.filter(ee.Filter.inList(\"system:index\",ee.List([pre_mosaic_date])))\n",
        "pre_img = ee.Image(pre_col.toList(1).get(0))\n",
        "\n",
        "if pre_col.size().getInfo() != 1:\n",
        "  raise ValueError(\"Didn't select 1 pre-fire image date. Check pre_mosaic_date!\")\n",
        "\n",
        "post_col = post_mosaic_col.filter(ee.Filter.inList(\"system:index\", ee.List([post_mosaic_date])))\n",
        "post_img = ee.Image(post_col.toList(1).get(0))\n",
        "\n",
        "if post_col.size().getInfo() != 1:\n",
        "  raise ValueError(\"Didn't select 1 post-fire image date. Check post_mosaic_date!\")\n",
        "\n",
        "# Calculate NBR\n",
        "if dattype.startswith('S2'):\n",
        "    pre_nbr = NBR_S2(pre_img)\n",
        "    post_nbr = NBR_S2(post_img)\n",
        "else:\n",
        "    pre_nbr = NBR_Landsat(pre_img,dattype)\n",
        "    post_nbr = NBR_Landsat(post_img,dattype)\n",
        "\n",
        "# Calculate dNBR\n",
        "dNBR = pre_nbr.subtract(post_nbr).rename('dNBR')\n",
        "\n",
        "# Scale dNBR\n",
        "dNBR_scaled = dNBR.expression('(dNBR * 1000 + 275)/5',{'dNBR': dNBR.select('dNBR')}).rename('dNBR_scaled')\n",
        "\n",
        "# Classify\n",
        "classes = dNBR_scaled.expression(\"(dNBR_scaled >= 187) ? 4 \"\n",
        "                                \": (dNBR_scaled >= 110) ? 3 \"\n",
        "                                \": (dNBR_scaled >= 76) ? 2 \"\n",
        "                                \": 1\",{'dNBR_scaled': dNBR_scaled.select('dNBR_scaled')})\n",
        "\n",
        "\n",
        "# Clip to fire perimeter\n",
        "classes_clipped = classes.clip(poly)\n",
        "\n",
        "print(\"BARC Complete\")"
      ],
      "metadata": {
        "id": "Zc6E1-54L6ga"
      },
      "execution_count": null,
      "outputs": []
    },
    {
      "cell_type": "code",
      "source": [
        "#Visualize pre- and post-fire imagery with BARC\n",
        "\n",
        "barc_map = geemap.Map()\n",
        "barc_map.addLayer(ee.Image(pre_img), vis, pre_mosaic_date)\n",
        "barc_map.addLayer(ee.Image(post_img),vis, post_mosaic_date)\n",
        "\n",
        "palette = ['000000','grey', 'yellow', 'orange','red']\n",
        "\n",
        "barc_vis = {'min':0,'max':4,'palette':palette}\n",
        "barc_map.addLayer(ee.Image(classes_clipped),barc_vis,'barc')\n",
        "\n",
        "style = {'color': 'white', 'width': 2, 'lineType': 'solid', 'fillColor': '00000000'}\n",
        "barc_map.addLayer(poly.style(**style),{},'poly')\n",
        "\n",
        "barc_map.centerObject(poly)\n",
        "barc_map"
      ],
      "metadata": {
        "id": "KFiLxtTJNs2q"
      },
      "execution_count": null,
      "outputs": []
    },
    {
      "cell_type": "code",
      "source": [
        "# Export rasters\n",
        "outfolder = firenumber\n",
        "pre_date = pre_mosaic_date\n",
        "post_date = post_mosaic_date\n",
        "\n",
        "# Define spatial resolution\n",
        "if dattype == 'S2':\n",
        "  px = 20\n",
        "else:\n",
        "  px = 30\n",
        "\n",
        "## Define tiling rules\n",
        "poly_area = round(poly.geometry().area(1).divide(10000).getInfo(),1)\n",
        "print(poly_area)\n",
        "print('Fire Area:',poly_area,'hectares')\n",
        "\n",
        "if poly_area < 10000:\n",
        "    n = 2\n",
        "elif poly_area > 10000 and poly_area < 100000:\n",
        "    n = 3\n",
        "elif poly_area > 100000 and poly_area < 400000:\n",
        "    n = 4\n",
        "else:\n",
        "    n = 5\n",
        "\n",
        "print('Number of tiles: ' + str(n*n))\n",
        "\n",
        "#export pre and post rgbs, tile to avoid pixel limit issues.\n",
        "footprint = poly.geometry().bounds().getInfo()\n",
        "grids = grid_footprint(footprint,n,n)\n",
        "\n",
        "for i in range(0,len(grids)):\n",
        "  roi = grids[i]\n",
        "  ## Export BARC\n",
        "  barc_folder = os.path.join(outfolder,'barc')\n",
        "  if not os.path.exists(barc_folder):\n",
        "          os.makedirs(barc_folder)\n",
        "\n",
        "  name = 'BARC_' + firenumber + '_' + pre_date + '_' + post_date + '_' + dattype +'_' + str(i) + '_.tif'\n",
        "  barc_filename = os.path.join(barc_folder,name)\n",
        "  geemap.ee_export_image(classes_clipped.unmask(9).clip(roi), filename=barc_filename, scale=px, file_per_band=False,crs='EPSG:3005')\n",
        "  ras = gdal.Open(barc_filename)\n",
        "  dat = ras.GetRasterBand(1)\n",
        "  dat.SetNoDataValue(9)\n",
        "  ras = None\n",
        "  dat = None\n",
        "\n",
        "  ## Export 8-bit truecolor images\n",
        "  #pre, truecolor\n",
        "  pre_tc_8bit = os.path.join(outfolder,'pre_truecolor_8bit')\n",
        "  if not os.path.exists(pre_tc_8bit):\n",
        "          os.makedirs(pre_tc_8bit)\n",
        "  filename = os.path.join(pre_tc_8bit, dattype + '_' + pre_date + '_truecolor_pre_8bit_' + str(i) + '.tif')\n",
        "  pre_tc_8bit_path = filename\n",
        "  if dattype.startswith('S2'):\n",
        "      viz = {'bands': ['B4', 'B3', 'B2'], 'min': 0, 'max':0.3,'gamma':1.5}\n",
        "      geemap.ee_export_image(pre_img.clip(roi).visualize(**viz), filename=filename, scale=10, file_per_band=False,crs='EPSG:3005')\n",
        "  elif (dattype == 'L8') | (dattype == 'L9'):\n",
        "      viz = {'bands': ['SR_B4', 'SR_B3', 'SR_B2'], 'min': 0, 'max':0.3,'gamma':1.5}\n",
        "      geemap.ee_export_image(pre_img.clip(roi).visualize(**viz), filename=filename, scale=30, file_per_band=False,crs='EPSG:3005')\n",
        "  else:\n",
        "      pass\n",
        "\n",
        "  post_tc_8bit = os.path.join(outfolder,'post_truecolor_8bit')\n",
        "  if not os.path.exists(post_tc_8bit):\n",
        "          os.makedirs(post_tc_8bit)\n",
        "  filename = os.path.join(post_tc_8bit, dattype + '_' + post_date + '_truecolor_post_8bit_' + str(i) + '.tif')\n",
        "  post_tc_8bit_path = filename\n",
        "  if dattype.startswith('S2'):\n",
        "      viz = {'bands': ['B4', 'B3', 'B2'], 'min': 0, 'max':0.3,'gamma':1.5}\n",
        "      geemap.ee_export_image(post_img.clip(roi).visualize(**viz), filename=filename, scale=10, file_per_band=False,crs='EPSG:3005')\n",
        "  elif (dattype == 'L8') | (dattype == 'L9'):\n",
        "      viz = {'bands': ['SR_B4', 'SR_B3', 'SR_B2'], 'min': 0, 'max':0.3,'gamma':1.5}\n",
        "      geemap.ee_export_image(post_img.clip(roi).visualize(**viz), filename=filename, scale=30, file_per_band=False,crs='EPSG:3005')\n",
        "  else:\n",
        "      pass\n",
        "\n",
        "  ## Export swir too\n",
        "  pre_sw_8bit = os.path.join(outfolder,'pre_swir_8bit')\n",
        "  if not os.path.exists(pre_sw_8bit):\n",
        "          os.makedirs(pre_sw_8bit)\n",
        "  filename = os.path.join(pre_sw_8bit, dattype + '_' + pre_date + '_swir_pre_8bit_' + str(i) + '.tif')\n",
        "  pre_sw_8bit_path = filename\n",
        "  if dattype.startswith('S2'):\n",
        "      viz = {'bands': ['B12', 'B8', 'B4'], 'min': 0, 'max':0.3,'gamma':1.5}\n",
        "      geemap.ee_export_image(pre_img.clip(roi).visualize(**viz), filename=filename, scale=10, file_per_band=False,crs='EPSG:3005')\n",
        "  elif (dattype == 'L8') | (dattype == 'L9'):\n",
        "      viz = {'bands': ['SR_B6', 'SR_B5', 'SR_B4'], 'min': 0, 'max':0.3,'gamma':1.5}\n",
        "      geemap.ee_export_image(pre_img.clip(roi).visualize(**viz), filename=filename, scale=30, file_per_band=False,crs='EPSG:3005')\n",
        "  else:\n",
        "      pass\n",
        "\n",
        "  post_sw_8bit = os.path.join(outfolder,'post_swir_8bit')\n",
        "  if not os.path.exists(post_sw_8bit):\n",
        "          os.makedirs(post_sw_8bit)\n",
        "  filename = os.path.join(post_sw_8bit, dattype + '_' + post_date + '_swir_post_8bit_' + str(i) + '.tif')\n",
        "  post_sw_8bit_path = filename\n",
        "  if dattype.startswith('S2'):\n",
        "      viz = {'bands': ['B12', 'B8', 'B4'], 'min': 0, 'max':0.3,'gamma':1.5}\n",
        "      geemap.ee_export_image(post_img.clip(roi).visualize(**viz), filename=filename, scale=10, file_per_band=False,crs='EPSG:3005')\n",
        "  elif (dattype == 'L8') | (dattype == 'L9'):\n",
        "      viz = {'bands': ['SR_B6', 'SR_B5', 'SR_B4'], 'min': 0, 'max':0.3,'gamma':1.5}\n",
        "      geemap.ee_export_image(post_img.clip(roi).visualize(**viz), filename=filename, scale=30, file_per_band=False,crs='EPSG:3005')\n",
        "  else:\n",
        "      pass\n",
        "\n",
        "  print(barc_folder)\n",
        "\n",
        "#mosaic all\n",
        "#BARC\n",
        "barc_list = getfiles(barc_folder,'.tif')\n",
        "outfilename = 'BARC_' + firenumber + '_' + pre_date + '_' + post_date + '_' + dattype + '.tif'\n",
        "out = os.path.join(barc_folder,outfilename)\n",
        "gdal.Warp(out,barc_list)\n",
        "for file in barc_list: os.remove(file) #delete tiles\n",
        "barc_filename = out #to return from the function\n",
        "print('Barc mosaic complete')\n",
        "\n",
        "#pre truecolour\n",
        "pre_tc_list = getfiles(pre_tc_8bit,'.tif')\n",
        "outfilename = dattype + '_' + pre_date + '_truecolor_pre_8bit' + '.tif'\n",
        "out = os.path.join(pre_tc_8bit,outfilename)\n",
        "gdal.Warp(out,pre_tc_list)\n",
        "for file in pre_tc_list: os.remove(file) #delete tiles\n",
        "pre_tc_8bit_path = out #to return from the function\n",
        "print('Pre truecolor mosaic complete')\n",
        "\n",
        "#post truecolor\n",
        "post_tc_list = getfiles(post_tc_8bit,'.tif')\n",
        "outfilename = dattype + '_' + post_date + '_truecolor_post_8bit' + '.tif'\n",
        "out = os.path.join(post_tc_8bit,outfilename)\n",
        "gdal.Warp(out,post_tc_list)\n",
        "for file in post_tc_list: os.remove(file)\n",
        "post_tc_8bit_path = out #to return from the function\n",
        "print('Post truecolor mosaic complete')\n",
        "\n",
        "#pre swir\n",
        "pre_sw_list = getfiles(pre_sw_8bit,'.tif')\n",
        "outfilename = dattype + '_' + pre_date + '_swir_pre_8bit' + '.tif'\n",
        "out = os.path.join(pre_sw_8bit,outfilename)\n",
        "gdal.Warp(out,pre_sw_list)\n",
        "for file in pre_sw_list: os.remove(file) #delete tiles\n",
        "pre_sw_8bit_path = out #to return from the function\n",
        "print('Pre swir mosaic complete')\n",
        "\n",
        "#post swir\n",
        "post_sw_list = getfiles(post_sw_8bit,'.tif')\n",
        "outfilename = dattype + '_' + post_date + '_swir_post_8bit' + '.tif'\n",
        "out = os.path.join(post_sw_8bit,outfilename)\n",
        "gdal.Warp(out,post_sw_list)\n",
        "for file in post_sw_list: os.remove(file)\n",
        "post_sw_8bit_path = out #to return from the function\n",
        "print('Post swir mosaic complete')\n",
        "\n",
        "#Zip to download\n",
        "zip = firenumber + '.zip'\n",
        "indata = r'/content/' + firenumber\n",
        "\n",
        "!zip -r {zip} {indata}\n",
        "files.download(zip)\n"
      ],
      "metadata": {
        "id": "GgAXor9eGhzx"
      },
      "execution_count": null,
      "outputs": []
    },
    {
      "cell_type": "code",
      "source": [
        "# Summary Section\n",
        "\n",
        "# Create a summary table\n",
        "\n",
        "# Create an inset map\n",
        "\n",
        "# Create quicklooks\n",
        "\n"
      ],
      "metadata": {
        "id": "Qkan1YWqcPAN"
      },
      "execution_count": null,
      "outputs": []
    }
  ],
  "metadata": {
    "colab": {
      "provenance": [],
      "authorship_tag": "ABX9TyMKcyWunlXZEwTO3QaOGaoV",
      "include_colab_link": true
    },
    "kernelspec": {
      "display_name": "Python 3",
      "name": "python3"
    },
    "language_info": {
      "name": "python"
    }
  },
  "nbformat": 4,
  "nbformat_minor": 0
}