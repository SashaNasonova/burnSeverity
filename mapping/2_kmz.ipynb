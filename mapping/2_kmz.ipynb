{
 "cells": [
  {
   "cell_type": "code",
   "execution_count": 9,
   "metadata": {},
   "outputs": [
    {
     "name": "stdout",
     "output_type": "stream",
     "text": [
      "1\n"
     ]
    }
   ],
   "source": [
    "## Get list of fire numbers\n",
    "\n",
    "import arcpy,os\n",
    "\n",
    "fc = \"interim_burn_severity_2025\"\n",
    "outfolder = r'E:\\burnSeverity\\interim_2025\\newfoundland\\FireNum_234'\n",
    "\n",
    "aprx = arcpy.mp.ArcGISProject(\"CURRENT\")\n",
    "mymap = aprx.listMaps('Burn Severity')[0]\n",
    "\n",
    "if not os.path.exists(outfolder):\n",
    "    os.makedirs(outfolder)\n",
    "\n",
    "unique_values = set(row[0] for row in arcpy.da.SearchCursor(fc, \"FIRE_NUMBER\"))\n",
    "firenums = list(unique_values)\n",
    "print(len(firenums))"
   ]
  },
  {
   "cell_type": "code",
   "execution_count": 10,
   "metadata": {},
   "outputs": [
    {
     "name": "stdout",
     "output_type": "stream",
     "text": [
      "FIRE_NUMBER='FireNum234'\n"
     ]
    }
   ],
   "source": [
    "## For each, select by fire number, export to kmz\n",
    "for firenum in firenums:\n",
    "    s = \"FIRE_NUMBER='firenumber'\"\n",
    "    query = s.replace('firenumber',firenum)\n",
    "    print(query)\n",
    "    arcpy.management.SelectLayerByAttribute(fc,\"NEW_SELECTION\",query)\n",
    "    \n",
    "    out_kmz = os.path.join(outfolder,firenum+'.kmz')\n",
    "    \n",
    "    arcpy.conversion.LayerToKML(\n",
    "    layer=fc,\n",
    "    out_kmz_file=out_kmz,\n",
    "    layer_output_scale=0,\n",
    "    is_composite=\"NO_COMPOSITE\",\n",
    "    image_size=1024,\n",
    "    dpi_of_client=96,\n",
    "    ignore_zvalue=\"CLAMPED_TO_GROUND\"\n",
    ")\n",
    "\n",
    "mymap.clearSelection()"
   ]
  },
  {
   "cell_type": "code",
   "execution_count": null,
   "metadata": {},
   "outputs": [],
   "source": []
  }
 ],
 "metadata": {
  "kernelspec": {
   "display_name": "ArcGISPro",
   "language": "python",
   "name": "python3"
  },
  "language_info": {
   "file_extension": ".py",
   "mimetype": "text/x-python",
   "name": "python",
   "version": "3.11.10"
  }
 },
 "nbformat": 4,
 "nbformat_minor": 4
}
