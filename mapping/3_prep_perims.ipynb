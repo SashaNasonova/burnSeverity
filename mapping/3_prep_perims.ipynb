{
 "cells": [
  {
   "cell_type": "code",
   "execution_count": 11,
   "metadata": {},
   "outputs": [
    {
     "data": {
      "text/html": [
       "<div class='gpresult'><h2 class='msg-title'>Messages</h2><div id='messages'>Start Time: August 26, 2025 1:56:34 PM<br>Started Spark Job 1 with 16 tasks.<br>Spark Job 1 completed in 1.0 seconds.<br><br>Succeeded at August 26, 2025 1:56:49 PM (Elapsed Time: 14.51 seconds)<br></div><div id = 'default' /></div></div>"
      ],
      "text/plain": [
       "<Result 'C:\\\\ArcPro_Projects\\\\BurnSevMaps\\\\BurnSevMaps.gdb\\\\interim_burn_severity_2025_SummarizeAttributes'>"
      ]
     },
     "execution_count": 11,
     "metadata": {},
     "output_type": "execute_result"
    }
   ],
   "source": [
    "import arcpy,os\n",
    "\n",
    "scratch = r\"C:\\ArcPro_Projects\\BurnSevMaps\\BurnSevMaps.gdb\"\n",
    "fc = \"interim_burn_severity_2025\"\n",
    "out_table = os.path.join(scratch,fc+'_SummarizeAttributes')\n",
    "\n",
    "aprx = arcpy.mp.ArcGISProject(\"CURRENT\")\n",
    "mymap = aprx.listMaps('Burn Severity')[0]\n",
    "\n",
    "arcpy.gapro.SummarizeAttributes(\n",
    "    input_layer=fc,\n",
    "    out_table=out_table,\n",
    "    fields=\"FIRE_NUMBER\",\n",
    "    summary_fields=\"PRE_FIRE_IMAGE_DATE ANY;POST_FIRE_IMAGE_DATE ANY\",\n",
    "    time_step_interval=None,\n",
    "    time_step_repeat=None,\n",
    "    time_step_reference=None\n",
    ")"
   ]
  },
  {
   "cell_type": "code",
   "execution_count": 16,
   "metadata": {},
   "outputs": [],
   "source": [
    "## Calculate PRE_IMG and POST_IMG dates\n",
    "arcpy.management.CalculateField(\n",
    "    in_table=out_table,\n",
    "    field=\"PRE_IMG\",\n",
    "    expression=\"!ANY_PRE_FIRE_IMAGE_DATE!\",\n",
    "    expression_type=\"PYTHON3\",\n",
    "    code_block=\"\",\n",
    "    field_type=\"TEXT\",\n",
    "    enforce_domains=\"NO_ENFORCE_DOMAINS\"\n",
    ")\n",
    "\n",
    "arcpy.management.CalculateField(\n",
    "    in_table=out_table,\n",
    "    field=\"POST_IMG\",\n",
    "    expression=\"!ANY_POST_FIRE_IMAGE_DATE!\",\n",
    "    expression_type=\"PYTHON3\",\n",
    "    code_block=\"\",\n",
    "    field_type=\"TEXT\",\n",
    "    enforce_domains=\"NO_ENFORCE_DOMAINS\"\n",
    ")\n",
    "\n",
    "# Join the two fields to the perimeters\n",
    "arcpy.management.JoinField(\n",
    "    in_data=\"Fire Perimeters\",\n",
    "    in_field=\"FireNum\",\n",
    "    join_table=out_table,\n",
    "    join_field=\"FIRE_NUMBER\",\n",
    "    fields=\"PRE_IMG;POST_IMG\",\n",
    "    fm_option=\"NOT_USE_FM\",\n",
    "    field_mapping=None,\n",
    "    index_join_fields=\"NO_INDEXES\"\n",
    ")\n",
    "\n",
    "mymap.clearSelection()"
   ]
  },
  {
   "cell_type": "code",
   "execution_count": null,
   "metadata": {},
   "outputs": [],
   "source": []
  },
  {
   "cell_type": "code",
   "execution_count": null,
   "metadata": {},
   "outputs": [],
   "source": []
  },
  {
   "cell_type": "code",
   "execution_count": null,
   "metadata": {},
   "outputs": [],
   "source": []
  }
 ],
 "metadata": {
  "kernelspec": {
   "display_name": "ArcGISPro",
   "language": "python",
   "name": "python3"
  },
  "language_info": {
   "file_extension": ".py",
   "mimetype": "text/x-python",
   "name": "python",
   "version": "3.11.10"
  }
 },
 "nbformat": 4,
 "nbformat_minor": 4
}
