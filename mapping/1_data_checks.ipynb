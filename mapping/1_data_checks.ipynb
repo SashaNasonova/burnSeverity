{
 "cells": [
  {
   "cell_type": "code",
   "execution_count": 1,
   "metadata": {},
   "outputs": [
    {
     "name": "stdout",
     "output_type": "stream",
     "text": [
      "Unique Fire Numbers: 1\n",
      "Burn Severity Area (ha): 10098.992981815403\n"
     ]
    }
   ],
   "source": [
    "import os, arcpy\n",
    "import pandas as pd\n",
    "\n",
    "## Get workspace\n",
    "workspace = arcpy.env.workspace\n",
    "\n",
    "## Check for the number of fires mapped and compare to expected\n",
    "## Check that the burn severity matches perimeter area (may be slightly diffrent)\n",
    "fc = \"interim_burn_severity_2025\"\n",
    "\n",
    "unique_values = set(row[0] for row in arcpy.da.SearchCursor(fc, \"FIRE_NUMBER\"))\n",
    "firenums = list(unique_values)\n",
    "print('Unique Fire Numbers:',len(firenums))\n",
    "\n",
    "## Export as dataframe\n",
    "columns = [f.name for f in arcpy.ListFields(fc) if f.type!=\"Geometry\"] #List the fields you want to include. I want all columns except the geometry\n",
    "df = pd.DataFrame(data=arcpy.da.SearchCursor(fc, columns), columns=columns)\n",
    "print('Burn Severity Area (ha):',sum(df['AREA_HA']))"
   ]
  },
  {
   "cell_type": "code",
   "execution_count": 2,
   "metadata": {},
   "outputs": [
    {
     "data": {
      "text/html": [
       "<div class='gpresult'><h2 class='msg-title'>Messages</h2><div id='messages'>Start Time: August 26, 2025 1:55:01 PM<br>WARNING 000442: non simple at 93 in interim_burn_severity_2025<br>WARNING 000442: non simple at 152 in interim_burn_severity_2025<br>WARNING 000442: non simple at 164 in interim_burn_severity_2025<br>WARNING 000442: non simple at 170 in interim_burn_severity_2025<br>WARNING 000442: non simple at 224 in interim_burn_severity_2025<br>WARNING 000442: non simple at 251 in interim_burn_severity_2025<br>WARNING 000442: non simple at 285 in interim_burn_severity_2025<br>WARNING 000442: non simple at 384 in interim_burn_severity_2025<br>WARNING 000442: non simple at 396 in interim_burn_severity_2025<br>WARNING 000442: non simple at 430 in interim_burn_severity_2025<br>WARNING 000442: non simple at 587 in interim_burn_severity_2025<br>WARNING 000442: non simple at 617 in interim_burn_severity_2025<br>WARNING 000442: non simple at 619 in interim_burn_severity_2025<br>WARNING 000442: non simple at 625 in interim_burn_severity_2025<br>WARNING 000442: non simple at 689 in interim_burn_severity_2025<br>WARNING 000442: non simple at 832 in interim_burn_severity_2025<br>WARNING 000442: non simple at 835 in interim_burn_severity_2025<br>WARNING 000442: non simple at 838 in interim_burn_severity_2025<br>Succeeded at August 26, 2025 1:55:01 PM (Elapsed Time: 0.92 seconds)<br></div><div id = 'default' /></div></div>"
      ],
      "text/plain": [
       "<Result 'C:\\\\ArcPro_Projects\\\\BurnSevMaps\\\\BurnSevMaps.gdb\\\\geom_check_ogc'>"
      ]
     },
     "execution_count": 2,
     "metadata": {},
     "output_type": "execute_result"
    }
   ],
   "source": [
    "## Check Geometry\n",
    "arcpy.management.CheckGeometry(\n",
    "    in_features=fc,\n",
    "    out_table=os.path.join(workspace,\"geom_check_ogc\"),\n",
    "    validation_method=\"OGC\"\n",
    ")"
   ]
  },
  {
   "cell_type": "code",
   "execution_count": 3,
   "metadata": {},
   "outputs": [
    {
     "data": {
      "text/html": [
       "<div class='gpresult'><h2 class='msg-title'>Messages</h2><div id='messages'>Start Time: August 26, 2025 1:55:03 PM<br>WARNING 000986: C:\\\\Users\\\\snasonov\\\\AppData\\\\Local\\\\Temp\\\\ArcGISProTemp23612\\\\interim_burn_severity_20250.txt contains the full list of non simple features.<br>WARNING 000461: Repaired feature 93 because of Non simple.<br>WARNING 000461: Repaired feature 152 because of Non simple.<br>WARNING 000461: Repaired feature 164 because of Non simple.<br>WARNING 000461: Repaired feature 170 because of Non simple.<br>WARNING 000461: Repaired feature 224 because of Non simple.<br>WARNING 000461: Repaired feature 251 because of Non simple.<br>WARNING 000461: Repaired feature 285 because of Non simple.<br>WARNING 000461: Repaired feature 384 because of Non simple.<br>WARNING 000461: Repaired feature 396 because of Non simple.<br>WARNING 000461: Repaired feature 430 because of Non simple.<br>WARNING 000461: Repaired feature 587 because of Non simple.<br>WARNING 000461: Repaired feature 617 because of Non simple.<br>WARNING 000461: Repaired feature 619 because of Non simple.<br>WARNING 000461: Repaired feature 625 because of Non simple.<br>WARNING 000461: Repaired feature 689 because of Non simple.<br>WARNING 000461: Repaired feature 832 because of Non simple.<br>WARNING 000461: Repaired feature 835 because of Non simple.<br>WARNING 000461: Repaired feature 838 because of Non simple.<br>Succeeded at August 26, 2025 1:55:04 PM (Elapsed Time: 0.56 seconds)<br></div><div id = 'default' /></div></div>"
      ],
      "text/plain": [
       "<Result 'interim_burn_severity_2025'>"
      ]
     },
     "execution_count": 3,
     "metadata": {},
     "output_type": "execute_result"
    }
   ],
   "source": [
    "## If needed run Repair Geometry\n",
    "arcpy.management.RepairGeometry(\n",
    "    in_features=fc,\n",
    "    delete_null=\"DELETE_NULL\",\n",
    "    validation_method=\"OGC\"\n",
    ")"
   ]
  },
  {
   "cell_type": "code",
   "execution_count": 4,
   "metadata": {},
   "outputs": [
    {
     "name": "stdout",
     "output_type": "stream",
     "text": [
      "FIRE_NUMBER exists\n",
      "FIRE_YEAR exists\n",
      "BURN_SEVERITY_RATING exists\n",
      "PRE_FIRE_IMAGE exists\n",
      "PRE_FIRE_IMAGE_DATE exists\n",
      "POST_FIRE_IMAGE exists\n",
      "POST_FIRE_IMAGE_DATE exists\n",
      "AREA_HA exists\n",
      "COMMENTS exists\n"
     ]
    }
   ],
   "source": [
    "#Check for all fields we need to have \n",
    "fields = ['FIRE_NUMBER','FIRE_YEAR','BURN_SEVERITY_RATING',\n",
    "         'PRE_FIRE_IMAGE','PRE_FIRE_IMAGE_DATE',\n",
    "         'POST_FIRE_IMAGE','POST_FIRE_IMAGE_DATE',\n",
    "         'AREA_HA','COMMENTS']\n",
    "\n",
    "for f in fields:\n",
    "    if f in columns:\n",
    "        print(f,\"exists\")\n",
    "    else:\n",
    "        print(f,\"f doesn't exist!\")"
   ]
  },
  {
   "cell_type": "code",
   "execution_count": 5,
   "metadata": {},
   "outputs": [
    {
     "name": "stdout",
     "output_type": "stream",
     "text": [
      "OBJECTID\n",
      "FEATURE_AREA_SQM\n",
      "FEATURE_LENGTH_M\n",
      "Shape_Length\n",
      "Shape_Area\n"
     ]
    }
   ],
   "source": [
    "#Print fields that aren't in the list\n",
    "#OBJECTID, FEATURE_AREA_SQM, FEATURE_LENGTH_M, Shape_Length, Shape_Area are okay.\n",
    "for c in columns:\n",
    "    if c not in fields:\n",
    "        print(c)\n"
   ]
  },
  {
   "cell_type": "code",
   "execution_count": 6,
   "metadata": {},
   "outputs": [
    {
     "name": "stdout",
     "output_type": "stream",
     "text": [
      "['2025']\n",
      "['Medium' 'High' 'Unburned' 'Low' 'Unknown']\n"
     ]
    }
   ],
   "source": [
    "## Check fire year and burn severity rating\n",
    "print(df['FIRE_YEAR'].unique())\n",
    "print(df['BURN_SEVERITY_RATING'].unique())"
   ]
  },
  {
   "cell_type": "code",
   "execution_count": 7,
   "metadata": {},
   "outputs": [
    {
     "name": "stdout",
     "output_type": "stream",
     "text": [
      "PRE_FIRE_IMAGE is null: []\n",
      "POST_FIRE_IMAGE is null: []\n",
      "PRE_FIRE_IMAGE_date is null: []\n",
      "POST_FIRE_IMAGE_DATE is null: []\n"
     ]
    }
   ],
   "source": [
    "## Check for nulls in PRE_FIRE_IMAGE and POST_FIRE_IMAGE\n",
    "s1 = df[df['PRE_FIRE_IMAGE'].isnull()]\n",
    "print('PRE_FIRE_IMAGE is null:', s1['FIRE_NUMBER'].unique())\n",
    "\n",
    "s2 = df[df['POST_FIRE_IMAGE'].isnull()]\n",
    "print('POST_FIRE_IMAGE is null:', s2['FIRE_NUMBER'].unique())\n",
    "\n",
    "s3 = df[df['PRE_FIRE_IMAGE_DATE'].isnull()]\n",
    "print('PRE_FIRE_IMAGE_date is null:', s3['FIRE_NUMBER'].unique())\n",
    "\n",
    "s4 = df[df['POST_FIRE_IMAGE_DATE'].isnull()]\n",
    "print('POST_FIRE_IMAGE_DATE is null:', s4['FIRE_NUMBER'].unique())"
   ]
  },
  {
   "cell_type": "code",
   "execution_count": 8,
   "metadata": {},
   "outputs": [
    {
     "name": "stdout",
     "output_type": "stream",
     "text": [
      "[None]\n"
     ]
    }
   ],
   "source": [
    "## Check for unique COMMENTS\n",
    "print(df['COMMENTS'].unique())"
   ]
  },
  {
   "cell_type": "code",
   "execution_count": null,
   "metadata": {},
   "outputs": [],
   "source": []
  },
  {
   "cell_type": "code",
   "execution_count": null,
   "metadata": {},
   "outputs": [],
   "source": []
  },
  {
   "cell_type": "code",
   "execution_count": null,
   "metadata": {},
   "outputs": [],
   "source": []
  }
 ],
 "metadata": {
  "kernelspec": {
   "display_name": "ArcGISPro",
   "language": "python",
   "name": "python3"
  },
  "language_info": {
   "file_extension": ".py",
   "mimetype": "text/x-python",
   "name": "python",
   "version": "3.11.10"
  }
 },
 "nbformat": 4,
 "nbformat_minor": 4
}
