{
 "cells": [
  {
   "cell_type": "code",
   "execution_count": null,
   "metadata": {},
   "outputs": [
    {
     "name": "stdout",
     "output_type": "stream",
     "text": [
      "\\\\spatialfiles2.bcgov\\Work\\FOR\\VIC\\HTS\\INV\\WorkArea\\pmarczak\\burnseverity\\export\\one_year_post_2024.gdb\n",
      "Unique Fire Numbers: 4\n",
      "Burn Severity Area (ha): 72716.09\n"
     ]
    }
   ],
   "source": [
    "import os, arcpy\n",
    "import pandas as pd\n",
    "\n",
    "## Get workspace\n",
    "workspace = arcpy.env.workspace\n",
    "print(workspace)\n",
    "## Check for the number of fires mapped and compare to expected\n",
    "## Check that the burn severity matches perimeter area (may be slightly diffrent)\n",
    "# fc = \"interim_burn_severity_2025\"\n",
    "fc = \"one_year_post_2024\"\n",
    "\n",
    "unique_values = set(row[0] for row in arcpy.da.SearchCursor(fc, \"FIRE_NUMBER\"))\n",
    "firenums = list(unique_values)\n",
    "print('Unique Fire Numbers:',len(firenums))\n",
    "\n",
    "## Export as dataframe\n",
    "columns = [f.name for f in arcpy.ListFields(fc) if f.type!=\"Geometry\"] #List the fields you want to include. I want all columns except the geometry\n",
    "df = pd.DataFrame(data=arcpy.da.SearchCursor(fc, columns), columns=columns)\n",
    "# Sum area from geometry and convert to hectares\n",
    "sr = arcpy.Describe(fc).spatialReference\n",
    "\n",
    "if sr.type == \"Projected\":\n",
    "    total_m2 = sum(geom.getArea(\"PLANAR\", \"SQUAREMETERS\") for (geom,) in arcpy.da.SearchCursor(fc, [\"SHAPE@\"]))\n",
    "else:\n",
    "    total_m2 = sum(geom.getArea(\"GEODESIC\", \"SQUAREMETERS\") for (geom,) in arcpy.da.SearchCursor(fc, [\"SHAPE@\"]))\n",
    "\n",
    "total_ha = round(total_m2 / 10000,2)\n",
    "print(\"Burn Severity Area (ha):\", total_ha)"
   ]
  },
  {
   "cell_type": "code",
   "execution_count": 8,
   "metadata": {},
   "outputs": [
    {
     "data": {
      "text/html": [
       "<div class='gpresult'><h2 class='msg-title'>Messages</h2><div id='messages'>Start Time: September 11, 2025 3:53:33 PM<br>Succeeded at September 11, 2025 3:54:47 PM (Elapsed Time: 1 minutes 13 seconds)<br></div><div id = 'default' /></div></div>"
      ],
      "text/plain": [
       "<Result '\\\\\\\\spatialfiles2.bcgov\\\\Work\\\\FOR\\\\VIC\\\\HTS\\\\INV\\\\WorkArea\\\\pmarczak\\\\burnseverity\\\\export\\\\one_year_post_2024.gdb\\\\geom_check_ogc'>"
      ]
     },
     "execution_count": 8,
     "metadata": {},
     "output_type": "execute_result"
    }
   ],
   "source": [
    "## Check Geometry\n",
    "arcpy.management.CheckGeometry(\n",
    "    in_features=fc,\n",
    "    out_table=os.path.join(workspace,\"geom_check_ogc\"),\n",
    "    validation_method=\"OGC\"\n",
    ")"
   ]
  },
  {
   "cell_type": "code",
   "execution_count": 9,
   "metadata": {},
   "outputs": [
    {
     "data": {
      "text/html": [
       "<div class='gpresult'><h2 class='msg-title'>Messages</h2><div id='messages'>Start Time: September 11, 2025 3:55:18 PM<br>Succeeded at September 11, 2025 3:55:30 PM (Elapsed Time: 11.94 seconds)<br></div><div id = 'default' /></div></div>"
      ],
      "text/plain": [
       "<Result '\\\\\\\\spatialfiles2.bcgov\\\\Work\\\\FOR\\\\VIC\\\\HTS\\\\INV\\\\WorkArea\\\\pmarczak\\\\burnseverity\\\\export\\\\one_year_post_2024.gdb\\\\one_year_post_2024'>"
      ]
     },
     "execution_count": 9,
     "metadata": {},
     "output_type": "execute_result"
    }
   ],
   "source": [
    "## If needed run Repair Geometry\n",
    "arcpy.management.RepairGeometry(\n",
    "    in_features=fc,\n",
    "    delete_null=\"DELETE_NULL\",\n",
    "    validation_method=\"OGC\"\n",
    ")\n",
    "\n",
    "\n"
   ]
  },
  {
   "cell_type": "code",
   "execution_count": 13,
   "metadata": {},
   "outputs": [
    {
     "name": "stdout",
     "output_type": "stream",
     "text": [
      "FIRE_NUMBER exists\n",
      "FIRE_YEAR exists\n",
      "BURN_SEVERITY_RATING exists\n",
      "PRE_FIRE_IMAGE exists\n",
      "PRE_FIRE_IMAGE_DATE exists\n",
      "POST_FIRE_IMAGE exists\n",
      "POST_FIRE_IMAGE_DATE exists\n",
      "AREA_HA f doesn't exist!\n",
      "COMMENTS exists\n"
     ]
    }
   ],
   "source": [
    "#Check for all fields we need to have \n",
    "fields = ['FIRE_NUMBER','FIRE_YEAR','BURN_SEVERITY_RATING',\n",
    "         'PRE_FIRE_IMAGE','PRE_FIRE_IMAGE_DATE',\n",
    "         'POST_FIRE_IMAGE','POST_FIRE_IMAGE_DATE',\n",
    "         'AREA_HA','COMMENTS']\n",
    "\n",
    "for f in fields:\n",
    "    if f in columns:\n",
    "        print(f,\"exists\")\n",
    "    else:\n",
    "        print(f,\"f doesn't exist!\")"
   ]
  },
  {
   "cell_type": "code",
   "execution_count": 14,
   "metadata": {},
   "outputs": [
    {
     "name": "stdout",
     "output_type": "stream",
     "text": [
      "OBJECTID\n",
      "FEATURE_AREA_SQM\n",
      "FEATURE_LENGTH_M\n",
      "Shape_Length\n",
      "Shape_Area\n"
     ]
    }
   ],
   "source": [
    "#Print fields that aren't in the list\n",
    "#OBJECTID, FEATURE_AREA_SQM, FEATURE_LENGTH_M, Shape_Length, Shape_Area are okay.\n",
    "for c in columns:\n",
    "    if c not in fields:\n",
    "        print(c)\n"
   ]
  },
  {
   "cell_type": "code",
   "execution_count": 15,
   "metadata": {},
   "outputs": [
    {
     "name": "stdout",
     "output_type": "stream",
     "text": [
      "['2024']\n",
      "['Low' 'Unburned' 'Medium' 'High']\n"
     ]
    }
   ],
   "source": [
    "## Check fire year and burn severity rating\n",
    "print(df['FIRE_YEAR'].unique())\n",
    "print(df['BURN_SEVERITY_RATING'].unique())"
   ]
  },
  {
   "cell_type": "code",
   "execution_count": 16,
   "metadata": {},
   "outputs": [
    {
     "name": "stdout",
     "output_type": "stream",
     "text": [
      "PRE_FIRE_IMAGE is null: []\n",
      "POST_FIRE_IMAGE is null: []\n",
      "PRE_FIRE_IMAGE_date is null: []\n",
      "POST_FIRE_IMAGE_DATE is null: []\n"
     ]
    }
   ],
   "source": [
    "## Check for nulls in PRE_FIRE_IMAGE and POST_FIRE_IMAGE\n",
    "s1 = df[df['PRE_FIRE_IMAGE'].isnull()]\n",
    "print('PRE_FIRE_IMAGE is null:', s1['FIRE_NUMBER'].unique())\n",
    "\n",
    "s2 = df[df['POST_FIRE_IMAGE'].isnull()]\n",
    "print('POST_FIRE_IMAGE is null:', s2['FIRE_NUMBER'].unique())\n",
    "\n",
    "s3 = df[df['PRE_FIRE_IMAGE_DATE'].isnull()]\n",
    "print('PRE_FIRE_IMAGE_date is null:', s3['FIRE_NUMBER'].unique())\n",
    "\n",
    "s4 = df[df['POST_FIRE_IMAGE_DATE'].isnull()]\n",
    "print('POST_FIRE_IMAGE_DATE is null:', s4['FIRE_NUMBER'].unique())"
   ]
  },
  {
   "cell_type": "code",
   "execution_count": 17,
   "metadata": {},
   "outputs": [
    {
     "name": "stdout",
     "output_type": "stream",
     "text": [
      "[None 'Satellite-derived water polygon']\n"
     ]
    }
   ],
   "source": [
    "## Check for unique COMMENTS\n",
    "print(df['COMMENTS'].unique())"
   ]
  },
  {
   "cell_type": "code",
   "execution_count": null,
   "metadata": {},
   "outputs": [],
   "source": []
  },
  {
   "cell_type": "code",
   "execution_count": null,
   "metadata": {},
   "outputs": [],
   "source": []
  },
  {
   "cell_type": "code",
   "execution_count": null,
   "metadata": {},
   "outputs": [],
   "source": []
  }
 ],
 "metadata": {
  "kernelspec": {
   "display_name": "ArcGISPro",
   "language": "python",
   "name": "python3"
  },
  "language_info": {
   "file_extension": ".py",
   "mimetype": "text/x-python",
   "name": "python",
   "version": "3.11.10"
  }
 },
 "nbformat": 4,
 "nbformat_minor": 4
}
