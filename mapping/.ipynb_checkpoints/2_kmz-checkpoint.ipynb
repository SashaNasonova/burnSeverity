{
 "cells": [
  {
   "cell_type": "code",
   "execution_count": 22,
   "metadata": {},
   "outputs": [
    {
     "name": "stdout",
     "output_type": "stream",
     "text": [
      "4\n",
      "['R31901', 'R12015', 'R40993', 'R11239']\n"
     ]
    }
   ],
   "source": [
    "## Get list of fire numbers\n",
    "\n",
    "import arcpy,os\n",
    "\n",
    "fc = \"one_year_post_2024\"\n",
    "outfolder = r'\\\\spatialfiles2.bcgov\\Work\\FOR\\VIC\\HTS\\INV\\WorkArea\\pmarczak\\burnseverity\\export'\n",
    "\n",
    "aprx = arcpy.mp.ArcGISProject(\"CURRENT\")\n",
    "mymap = aprx.listMaps('Burn Severity')[0]\n",
    "\n",
    "if not os.path.exists(outfolder):\n",
    "    os.makedirs(outfolder)\n",
    "\n",
    "unique_values = set(row[0] for row in arcpy.da.SearchCursor(fc, \"FIRE_NUMBER\"))\n",
    "firenums = list(unique_values)\n",
    "print(len(firenums))\n",
    "print (firenums)"
   ]
  },
  {
   "cell_type": "code",
   "execution_count": 24,
   "metadata": {},
   "outputs": [],
   "source": [
    "## For each, select by fire number, export to kmz\n",
    "for firenum in firenums:\n",
    "    where = \"FIRE_NUMBER = '{}'\".format(firenum)\n",
    "    # Make a temp feature layer from the feature class/path in `fc`\n",
    "    lyr_name = \"kmz_{}\".format(firenum)\n",
    "    lyr = arcpy.management.MakeFeatureLayer(fc, lyr_name)\n",
    "    arcpy.management.SelectLayerByAttribute(lyr, \"NEW_SELECTION\", where)\n",
    "    out_kmz = os.path.join(outfolder, \"{}.kmz\".format(firenum))\n",
    "    arcpy.conversion.LayerToKML(\n",
    "        layer=lyr,\n",
    "        out_kmz_file=out_kmz,\n",
    "        layer_output_scale=0,\n",
    "        is_composite=\"NO_COMPOSITE\",\n",
    "        image_size=1024,\n",
    "        dpi_of_client=96,\n",
    "        ignore_zvalue=\"CLAMPED_TO_GROUND\"\n",
    "    )\n",
    "\n",
    "    # Clear and clean up\n",
    "    arcpy.management.SelectLayerByAttribute(lyr, \"CLEAR_SELECTION\")\n",
    "    arcpy.management.Delete(lyr)"
   ]
  },
  {
   "cell_type": "code",
   "execution_count": null,
   "metadata": {},
   "outputs": [],
   "source": []
  }
 ],
 "metadata": {
  "kernelspec": {
   "display_name": "ArcGISPro",
   "language": "python",
   "name": "python3"
  },
  "language_info": {
   "file_extension": ".py",
   "mimetype": "text/x-python",
   "name": "python",
   "version": "3.11.10"
  }
 },
 "nbformat": 4,
 "nbformat_minor": 4
}
